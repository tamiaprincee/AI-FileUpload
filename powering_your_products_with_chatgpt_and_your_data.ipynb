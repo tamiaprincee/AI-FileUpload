{
 "cells": [
  {
   "cell_type": "markdown",
   "metadata": {
    "pycharm": {
     "name": "#%% md\n"
    }
   },
   "source": [
    "# Power your products with ChatGPT and your own data\n",
    "\n",
    "This is a walkthrough taking readers through how to build starter Q&A and Chatbot applications using the ChatGPT API and their own data. \n",
    "\n",
    "It is laid out in these sections:\n",
    "- **Setup:** \n",
    "    - Initiate variables and source the data\n",
    "- **Lay the foundations:**\n",
    "    - Set up the vector database to accept vectors and data\n",
    "    - Load the dataset, chunk the data up for embedding and store in the vector database\n",
    "- **Make it a product:**\n",
    "    - Add a retrieval step where users provide queries and we return the most relevant entries\n",
    "    - Summarise search results with GPT-3\n",
    "    - Test out this basic Q&A app in Streamlit\n",
    "- **Build your moat:**\n",
    "    - Create an Assistant class to manage context and interact with our bot\n",
    "    - Use the Chatbot to answer questions using semantic search context\n",
    "    - Test out this basic Chatbot app in Streamlit\n",
    "    \n",
    "Upon completion, you have the building blocks to create your own production chatbot or Q&A application using OpenAI APIs and a vector database.\n",
    "\n",
    "This notebook was originally presented with [these slides](https://drive.google.com/file/d/1dB-RQhZC_Q1iAsHkNNdkqtxxXqYODFYy/view?usp=share_link), which provide visual context for this journey."
   ]
  },
  {
   "cell_type": "code",
   "execution_count": 1,
   "metadata": {
    "pycharm": {
     "name": "#%%\n"
    }
   },
   "outputs": [],
   "source": [
    "%load_ext autoreload\n",
    "%autoreload 2"
   ]
  },
  {
   "cell_type": "markdown",
   "metadata": {
    "pycharm": {
     "name": "#%% md\n"
    }
   },
   "source": [
    "## Setup\n",
    "\n",
    "First we'll setup our libraries and environment variables"
   ]
  },
  {
   "cell_type": "code",
   "execution_count": 2,
   "metadata": {
    "ExecuteTime": {
     "end_time": "2023-04-18T09:08:08.872412Z",
     "start_time": "2023-04-18T09:08:07.620674Z"
    },
    "pycharm": {
     "name": "#%%\n"
    }
   },
   "outputs": [],
   "source": [
    "import openai\n",
    "import os\n",
    "import requests\n",
    "import numpy as np\n",
    "import pandas as pd\n",
    "from typing import Iterator\n",
    "import tiktoken\n",
    "import textract\n",
    "from numpy import array, average\n",
    "\n",
    "from database import get_redis_connection\n",
    "\n",
    "# Set our default models and chunking size\n",
    "from config import COMPLETIONS_MODEL, EMBEDDINGS_MODEL, CHAT_MODEL, TEXT_EMBEDDING_CHUNK_SIZE, VECTOR_FIELD_NAME,OPENAI_KEY\n",
    "\n",
    "# Ignore unclosed SSL socket warnings - optional in case you get these errors\n",
    "import warnings\n",
    "\n",
    "warnings.filterwarnings(action=\"ignore\", message=\"unclosed\", category=ImportWarning)\n",
    "warnings.filterwarnings(\"ignore\", category=DeprecationWarning)\n",
    "\n",
    "openai.api_key = OPENAI_KEY"
   ]
  },
  {
   "cell_type": "code",
   "execution_count": 3,
   "metadata": {
    "pycharm": {
     "name": "#%%\n"
    }
   },
   "outputs": [],
   "source": [
    "pd.set_option('display.max_colwidth', 0)"
   ]
  },
  {
   "cell_type": "code",
   "execution_count": 4,
   "metadata": {
    "pycharm": {
     "name": "#%%\n"
    }
   },
   "outputs": [
    {
     "data": {
      "text/plain": [
       "[\"FIA Practice Directions - Competitor's Staff Registration System.pdf\",\n",
       " 'f1040.pdf',\n",
       " 'fia_2022_formula_1_sporting_regulations_-_issue_9_-_2022-10-19_0.pdf',\n",
       " 'fia_2023_formula_1_technical_regulations_-_issue_4_-_2022-12-07.pdf',\n",
       " 'fia_f1_power_unit_financial_regulations_issue_1_-_2022-08-16.pdf',\n",
       " 'fia_formula_1_financial_regulations_iss.13.pdf',\n",
       " 'i1040gi.pdf',\n",
       " 'i1040tt.pdf',\n",
       " 'iw9.pdf']"
      ]
     },
     "execution_count": 4,
     "metadata": {},
     "output_type": "execute_result"
    }
   ],
   "source": [
    "data_dir = os.path.join(os.curdir,'data')\n",
    "pdf_files = sorted([x for x in os.listdir(data_dir) if 'DS_Store' not in x])\n",
    "pdf_files"
   ]
  },
  {
   "cell_type": "markdown",
   "metadata": {
    "pycharm": {
     "name": "#%% md\n"
    }
   },
   "source": [
    "## Laying the foundations"
   ]
  },
  {
   "cell_type": "markdown",
   "metadata": {
    "pycharm": {
     "name": "#%% md\n"
    }
   },
   "source": [
    "### Storage\n",
    "\n",
    "We're going to use Redis as our database for both document contents and the vector embeddings. You will need the full Redis Stack to enable use of Redisearch, which is the module that allows semantic search - more detail is in the [docs for Redis Stack](https://redis.io/docs/stack/get-started/install/docker/).\n",
    "\n",
    "To set this up locally, you will need to install Docker and then run the following command: ```docker run -d --name redis-stack -p 6379:6379 -p 8001:8001 redis/redis-stack:latest```.\n",
    "\n",
    "The code used here draws heavily on [this repo](https://github.com/RedisAI/vecsim-demo).\n",
    "\n",
    "After setting up the Docker instance of Redis Stack, you can follow the below instructions to initiate a Redis connection and create a Hierarchical Navigable Small World (HNSW) index for semantic search."
   ]
  },
  {
   "cell_type": "code",
   "execution_count": 5,
   "metadata": {
    "pycharm": {
     "name": "#%%\n"
    }
   },
   "outputs": [],
   "source": [
    "# Setup Redis\n",
    "from redis import Redis\n",
    "from redis.commands.search.query import Query\n",
    "from redis.commands.search.field import (\n",
    "    TextField,\n",
    "    VectorField,\n",
    "    NumericField\n",
    ")\n",
    "from redis.commands.search.indexDefinition import (\n",
    "    IndexDefinition,\n",
    "    IndexType\n",
    ")\n",
    "\n",
    "redis_client = get_redis_connection()"
   ]
  },
  {
   "cell_type": "code",
   "execution_count": 6,
   "metadata": {
    "pycharm": {
     "name": "#%%\n"
    }
   },
   "outputs": [],
   "source": [
    "# Constants\n",
    "VECTOR_DIM = 1536 #len(data['title_vector'][0]) # length of the vectors\n",
    "#VECTOR_NUMBER = len(data)                 # initial number of vectors\n",
    "PREFIX = \"sportsdoc\"                            # prefix for the document keys\n",
    "DISTANCE_METRIC = \"COSINE\"                # distance metric for the vectors (ex. COSINE, IP, L2)"
   ]
  },
  {
   "cell_type": "code",
   "execution_count": 7,
   "metadata": {
    "pycharm": {
     "name": "#%%\n"
    }
   },
   "outputs": [],
   "source": [
    "# Create search index\n",
    "\n",
    "# Index\n",
    "INDEX_NAME = \"f1-index\"           # name of the search index\n",
    "VECTOR_FIELD_NAME = 'content_vector'\n",
    "\n",
    "# Define RediSearch fields for each of the columns in the dataset\n",
    "# This is where you should add any additional metadata you want to capture\n",
    "filename = TextField(\"filename\")\n",
    "text_chunk = TextField(\"text_chunk\")\n",
    "file_chunk_index = NumericField(\"file_chunk_index\")\n",
    "\n",
    "# define RediSearch vector fields to use HNSW index\n",
    "\n",
    "text_embedding = VectorField(VECTOR_FIELD_NAME,\n",
    "    \"HNSW\", {\n",
    "        \"TYPE\": \"FLOAT32\",\n",
    "        \"DIM\": VECTOR_DIM,\n",
    "        \"DISTANCE_METRIC\": DISTANCE_METRIC\n",
    "    }\n",
    ")\n",
    "# Add all our field objects to a list to be created as an index\n",
    "fields = [filename,text_chunk,file_chunk_index,text_embedding]"
   ]
  },
  {
   "cell_type": "code",
   "execution_count": 8,
   "metadata": {
    "pycharm": {
     "name": "#%%\n"
    }
   },
   "outputs": [
    {
     "data": {
      "text/plain": [
       "True"
      ]
     },
     "execution_count": 8,
     "metadata": {},
     "output_type": "execute_result"
    }
   ],
   "source": [
    "redis_client.ping()"
   ]
  },
  {
   "cell_type": "code",
   "execution_count": 9,
   "metadata": {
    "pycharm": {
     "name": "#%%\n"
    }
   },
   "outputs": [
    {
     "name": "stdout",
     "output_type": "stream",
     "text": [
      "Index already exists\n"
     ]
    }
   ],
   "source": [
    "# Optional step to drop the index if it already exists\n",
    "#redis_client.ft(INDEX_NAME).dropindex()\n",
    "\n",
    "# Check if index exists\n",
    "try:\n",
    "    redis_client.ft(INDEX_NAME).info()\n",
    "    print(\"Index already exists\")\n",
    "except Exception as e:\n",
    "    print(e)\n",
    "    # Create RediSearch Index\n",
    "    print('Not there yet. Creating')\n",
    "    redis_client.ft(INDEX_NAME).create_index(\n",
    "        fields = fields,\n",
    "        definition = IndexDefinition(prefix=[PREFIX], index_type=IndexType.HASH)\n",
    "    )"
   ]
  },
  {
   "cell_type": "markdown",
   "metadata": {
    "pycharm": {
     "name": "#%% md\n"
    }
   },
   "source": [
    "### Ingestion\n",
    "\n",
    "We'll load up our PDFs and do the following\n",
    "- Initiate our tokenizer\n",
    "- Run a processing pipeline to:\n",
    "    - Mine the text from each PDF\n",
    "    - Split them into chunks and embed them\n",
    "    - Store them in Redis"
   ]
  },
  {
   "cell_type": "code",
   "execution_count": 10,
   "metadata": {
    "pycharm": {
     "name": "#%%\n"
    }
   },
   "outputs": [],
   "source": [
    "# The transformers.py file contains all of the transforming functions, including ones to chunk, embed and load data\n",
    "# For more details the file and work through each function individually\n",
    "from transformers import handle_file_string"
   ]
  },
  {
   "cell_type": "code",
   "execution_count": 11,
   "metadata": {
    "pycharm": {
     "name": "#%%\n"
    }
   },
   "outputs": [
    {
     "name": "stdout",
     "output_type": "stream",
     "text": [
      "./data/FIA Practice Directions - Competitor's Staff Registration System.pdf\n",
      "./data/f1040.pdf\n",
      "./data/fia_2022_formula_1_sporting_regulations_-_issue_9_-_2022-10-19_0.pdf\n",
      "./data/fia_2023_formula_1_technical_regulations_-_issue_4_-_2022-12-07.pdf\n",
      "./data/fia_f1_power_unit_financial_regulations_issue_1_-_2022-08-16.pdf\n",
      "./data/fia_formula_1_financial_regulations_iss.13.pdf\n",
      "./data/i1040gi.pdf\n",
      "./data/i1040tt.pdf\n",
      "./data/iw9.pdf\n",
      "CPU times: user 13.9 s, sys: 2.85 s, total: 16.7 s\n",
      "Wall time: 3min 4s\n"
     ]
    }
   ],
   "source": [
    "%%time\n",
    "# This step takes about 5 minutes\n",
    "\n",
    "# Initialise tokenizer\n",
    "tokenizer = tiktoken.get_encoding(\"cl100k_base\")\n",
    "\n",
    "# Process each PDF file and prepare for embedding\n",
    "for pdf_file in pdf_files:\n",
    "    \n",
    "    pdf_path = os.path.join(data_dir,pdf_file)\n",
    "    print(pdf_path)\n",
    "    \n",
    "    # Extract the raw text from each PDF using textract\n",
    "    text = textract.process(pdf_path, method='pdfminer')\n",
    "    \n",
    "    # Chunk each document, embed the contents and load to Redis\n",
    "    handle_file_string((pdf_file,text.decode(\"utf-8\")),tokenizer,redis_client,VECTOR_FIELD_NAME,INDEX_NAME)"
   ]
  },
  {
   "cell_type": "code",
   "execution_count": 12,
   "metadata": {
    "pycharm": {
     "name": "#%%\n"
    }
   },
   "outputs": [
    {
     "data": {
      "text/plain": [
       "'1713'"
      ]
     },
     "execution_count": 12,
     "metadata": {},
     "output_type": "execute_result"
    }
   ],
   "source": [
    "# Check that our docs have been inserted\n",
    "redis_client.ft(INDEX_NAME).info()['num_docs']"
   ]
  },
  {
   "cell_type": "markdown",
   "metadata": {
    "pycharm": {
     "name": "#%% md\n"
    }
   },
   "source": [
    "## Make it a product\n",
    "\n",
    "Now we can test that our search works as intended by:\n",
    "- Querying our data in Redis using semantic search and verifying results\n",
    "- Adding a step to pass the results to GPT-3 for summarisation"
   ]
  },
  {
   "cell_type": "code",
   "execution_count": 13,
   "metadata": {
    "pycharm": {
     "name": "#%%\n"
    }
   },
   "outputs": [],
   "source": [
    "from database import get_redis_results"
   ]
  },
  {
   "cell_type": "code",
   "execution_count": 15,
   "metadata": {
    "pycharm": {
     "name": "#%%\n"
    }
   },
   "outputs": [
    {
     "name": "stdout",
     "output_type": "stream",
     "text": [
      "CPU times: user 7.37 ms, sys: 2.41 ms, total: 9.78 ms\n",
      "Wall time: 454 ms\n"
     ]
    },
    {
     "data": {
      "text/html": [
       "<div>\n",
       "<style scoped>\n",
       "    .dataframe tbody tr th:only-of-type {\n",
       "        vertical-align: middle;\n",
       "    }\n",
       "\n",
       "    .dataframe tbody tr th {\n",
       "        vertical-align: top;\n",
       "    }\n",
       "\n",
       "    .dataframe thead th {\n",
       "        text-align: right;\n",
       "    }\n",
       "</style>\n",
       "<table border=\"1\" class=\"dataframe\">\n",
       "  <thead>\n",
       "    <tr style=\"text-align: right;\">\n",
       "      <th></th>\n",
       "      <th>id</th>\n",
       "      <th>result</th>\n",
       "      <th>certainty</th>\n",
       "    </tr>\n",
       "  </thead>\n",
       "  <tbody>\n",
       "    <tr>\n",
       "      <th>0</th>\n",
       "      <td>0</td>\n",
       "      <td>to figure     For more details, see Pub. 535.  If you qualify to take the deduction,   use the Self-Employed Health Insurance   Deduction Worksheet   the   amount you can deduct.  Exceptions. Use Pub. 535 instead of   the Self-Employed Health Insurance De-  duction Worksheet in these instructions   to figure your deduction if any of the   following applies.  • You had more than one source of   income subject to self-employment tax.  • You file Form 2555.  • You are using amounts paid for   qualified long-term care insurance to   figure the deduction.    Use Pub. 974 instead of the work-  sheet in these instructions if the insur-  ance plan was considered to be estab-  lished under your business and was ob-  tained through the Marketplace, and ad-  vance payments of the premium tax   credit were made or you are claiming   the premium tax credit.  Line 18  Penalty on Early Withdrawal of   Savings  The Form 1099-INT or Form 1099-OID   you received will show the amount of   any penalty you were charged.  Lines 19a, 19b, and 19c  Alimony Paid  Line 19a  If you made payments to or for your   spouse or former spouse under a divorce   or separation agreement entered into on   or before December 31, 2018, you may   be able to take this deduction. You can't   take a deduction for alimony payments   you made to or for your spouse if you   entered into your divorce or separation   agreement after December 31, 2018, or   if you entered into the agreement on or   before December 31, 2018, and the     agreement was changed after December   31, 2018, to expressly provide that ali-  mony received is not included in your   former spouse's income. Use Tax Topic   452 or see Pub. 504.</td>\n",
       "      <td>0.146604061127</td>\n",
       "    </tr>\n",
       "    <tr>\n",
       "      <th>1</th>\n",
       "      <td>1</td>\n",
       "      <td>Attach Form(s) W-2G to Form   1040 or 1040-SR if any federal   income tax was withheld.    Line 8c  Cancellation of debt. Enter on line 8c   any canceled debt. Canceled debt may   be shown in box 2 of Form 1099-C.   However, part or all of your income   from cancellation of debt may be non-  taxable. See Pub. 4681 or go to IRS.gov   and enter “canceled debt” or “foreclo-  sure” in the search box.  Line 8d  Foreign earned income exclusion and   housing exclusion from Form 2555.   Enter the amount of your foreign earned   income and housing exclusion from   Form 2555, line 45. Enter the amount in   the preprinted parentheses (as a negative     -85-    number). The amount from Form 2555,   line 45, will be subtracted from the other   amounts of income listed on lines 8a   through 8c and lines 8e through 8z.   Complete the Foreign Earned Income   Tax Worksheet if you enter an amount   on Form 2555, line 45.  Line 8e  Income from Form 8853. Enter on   line 8e the total of the amounts from   Form 8853, lines 8, 12, and 26. See Pub.   969.    You may have to pay an addi-  tional tax if you received a tax-  able distribution from an Arch-  er MSA or Medicare Advantage MSA.   See the Instructions for Form 8853.    Line 8f  Income from Form 8889. Enter on   line 8f the total of the amounts from   Form 8889, lines 16 and 20.    You may have to pay an addi-  tional tax if you received a tax-  able distribution from a health   savings account. See the Instructions for   Form 8889.    Line 8h  Jury duty pay.</td>\n",
       "      <td>0.154962956905</td>\n",
       "    </tr>\n",
       "  </tbody>\n",
       "</table>\n",
       "</div>"
      ],
      "text/plain": [
       "   id  \\\n",
       "0  0    \n",
       "1  1    \n",
       "\n",
       "                                                                                                                                                                                                                                                                                                                                                                                                                                                                                                                                                                                                                                                                                                                                                                                                                                                                                                                                                                                                                                                                                                                                                                                                                                                                                                                                                                                                                                                                                                                                                                                                                                                                                                                                                              result  \\\n",
       "0      to figure     For more details, see Pub. 535.  If you qualify to take the deduction,   use the Self-Employed Health Insurance   Deduction Worksheet   the   amount you can deduct.  Exceptions. Use Pub. 535 instead of   the Self-Employed Health Insurance De-  duction Worksheet in these instructions   to figure your deduction if any of the   following applies.  • You had more than one source of   income subject to self-employment tax.  • You file Form 2555.  • You are using amounts paid for   qualified long-term care insurance to   figure the deduction.    Use Pub. 974 instead of the work-  sheet in these instructions if the insur-  ance plan was considered to be estab-  lished under your business and was ob-  tained through the Marketplace, and ad-  vance payments of the premium tax   credit were made or you are claiming   the premium tax credit.  Line 18  Penalty on Early Withdrawal of   Savings  The Form 1099-INT or Form 1099-OID   you received will show the amount of   any penalty you were charged.  Lines 19a, 19b, and 19c  Alimony Paid  Line 19a  If you made payments to or for your   spouse or former spouse under a divorce   or separation agreement entered into on   or before December 31, 2018, you may   be able to take this deduction. You can't   take a deduction for alimony payments   you made to or for your spouse if you   entered into your divorce or separation   agreement after December 31, 2018, or   if you entered into the agreement on or   before December 31, 2018, and the     agreement was changed after December   31, 2018, to expressly provide that ali-  mony received is not included in your   former spouse's income. Use Tax Topic   452 or see Pub. 504.   \n",
       "1      Attach Form(s) W-2G to Form   1040 or 1040-SR if any federal   income tax was withheld.    Line 8c  Cancellation of debt. Enter on line 8c   any canceled debt. Canceled debt may   be shown in box 2 of Form 1099-C.   However, part or all of your income   from cancellation of debt may be non-  taxable. See Pub. 4681 or go to IRS.gov   and enter “canceled debt” or “foreclo-  sure” in the search box.  Line 8d  Foreign earned income exclusion and   housing exclusion from Form 2555.   Enter the amount of your foreign earned   income and housing exclusion from   Form 2555, line 45. Enter the amount in   the preprinted parentheses (as a negative     -85-    number). The amount from Form 2555,   line 45, will be subtracted from the other   amounts of income listed on lines 8a   through 8c and lines 8e through 8z.   Complete the Foreign Earned Income   Tax Worksheet if you enter an amount   on Form 2555, line 45.  Line 8e  Income from Form 8853. Enter on   line 8e the total of the amounts from   Form 8853, lines 8, 12, and 26. See Pub.   969.    You may have to pay an addi-  tional tax if you received a tax-  able distribution from an Arch-  er MSA or Medicare Advantage MSA.   See the Instructions for Form 8853.    Line 8f  Income from Form 8889. Enter on   line 8f the total of the amounts from   Form 8889, lines 16 and 20.    You may have to pay an addi-  tional tax if you received a tax-  able distribution from a health   savings account. See the Instructions for   Form 8889.    Line 8h  Jury duty pay.                                                                                                                                                                                 \n",
       "\n",
       "        certainty  \n",
       "0  0.146604061127  \n",
       "1  0.154962956905  "
      ]
     },
     "execution_count": 15,
     "metadata": {},
     "output_type": "execute_result"
    }
   ],
   "source": [
    "%%time\n",
    "\n",
    "f1_query='what are some deductions for 1099 form?'\n",
    "\n",
    "result_df = get_redis_results(redis_client,f1_query,index_name=INDEX_NAME)\n",
    "result_df.head(2)"
   ]
  },
  {
   "cell_type": "code",
   "execution_count": 16,
   "metadata": {
    "pycharm": {
     "name": "#%%\n"
    }
   },
   "outputs": [
    {
     "name": "stdout",
     "output_type": "stream",
     "text": [
      "- Self-employment deductions available for health insurance expenses, as outlined in Pub. 535\n",
      "- Exceptions to deducting health insurance expenses may apply, as outlined in Pub. 535\n",
      "- Deduction for penalty on early withdrawal of savings, as shown on Form 1099-INT or 1099-OID\n",
      "- Deduction for alimony payments made before and/or after December 31, 2018, as outlined in Tax Topic 452 or Pub. 504\n"
     ]
    }
   ],
   "source": [
    "# Build a prompt to provide the original query, the result and ask to summarise for the user\n",
    "summary_prompt = '''Summarise this result in a bulleted list to answer the search query a customer has sent.\n",
    "Search query: SEARCH_QUERY_HERE\n",
    "Search result: SEARCH_RESULT_HERE\n",
    "Summary:\n",
    "'''\n",
    "summary_prepped = summary_prompt.replace('SEARCH_QUERY_HERE',f1_query).replace('SEARCH_RESULT_HERE',result_df['result'][0])\n",
    "summary = openai.Completion.create(engine=COMPLETIONS_MODEL,prompt=summary_prepped,max_tokens=500)\n",
    "# Response provided by GPT-3\n",
    "print(summary['choices'][0]['text'])"
   ]
  },
  {
   "cell_type": "markdown",
   "metadata": {
    "pycharm": {
     "name": "#%% md\n"
    }
   },
   "source": [
    "### Search\n",
    "\n",
    "Now that we've got our knowledge embedded and stored in Redis, we can now create an internal search application. Its not sophisticated but it'll get the job done for us.\n",
    "\n",
    "In the directory containing this app, execute ```streamlit run search.py```. This will open up a Streamlit app in your browser where you can ask questions of your embedded data.\n",
    "\n",
    "__Example Questions__:\n",
    "- what is the cost cap for a power unit in 2023\n",
    "- what should competitors include on their application form"
   ]
  },
  {
   "cell_type": "markdown",
   "metadata": {
    "pycharm": {
     "name": "#%% md\n"
    }
   },
   "source": [
    "## Build your moat\n",
    "\n",
    "The Q&A was useful, but fairly limited in the complexity of interaction we can have - if the user asks a sub-optimal question, there is no assistance from the system to prompt them for more info or conversation to lead them down the right path.\n",
    "\n",
    "For the next step we'll make a Chatbot using the Chat Completions endpoint, which will:\n",
    "- Be given instructions on how it should act and what the goals of its users are\n",
    "- Be supplied some required information that it needs to collect\n",
    "- Go back and forth with the customer until it has populated that information\n",
    "- Say a trigger word that will kick off semantic search and summarisation of the response\n",
    "\n",
    "For more details on our Chat Completions endpoint and how to interact with it, please check out the docs [here](https://platform.openai.com/docs/guides/chat)."
   ]
  },
  {
   "cell_type": "markdown",
   "metadata": {
    "pycharm": {
     "name": "#%% md\n"
    }
   },
   "source": [
    "### Framework\n",
    "\n",
    "This section outlines a basic framework for working with the API and storing context of previous conversation \"turns\". Once this is established, we'll extend it to use our retrieval endpoint."
   ]
  },
  {
   "cell_type": "code",
   "execution_count": 16,
   "metadata": {
    "pycharm": {
     "name": "#%%\n"
    }
   },
   "outputs": [
    {
     "name": "stdout",
     "output_type": "stream",
     "text": [
      "assistant: As an AI language model, I can help you in various ways such as:\n",
      "\n",
      "1. Answering your questions: You can ask me questions about different topics, and I will try my best to provide you with accurate and relevant answers.\n",
      "\n",
      "2. Proofreading and editing: I can help you proofread and edit your texts, ensuring that your writing is free from grammatical errors and spelling mistakes.\n",
      "\n",
      "3. Translation: If you need assistance with translation, I can translate texts from one language to another.\n",
      "\n",
      "4. Brainstorming ideas: If you need ideas for a project, I can help you brainstorm ideas, providing you with creative suggestions.\n",
      "\n",
      "5. Providing information: I can help you find information on different topics or assist you in research.\n",
      "\n",
      "6. Personal assistance: As a language model, I can assist you in daily tasks such as setting reminders, checking your calendar, and sending emails.\n"
     ]
    }
   ],
   "source": [
    "# A basic example of how to interact with our ChatCompletion endpoint\n",
    "# It requires a list of \"messages\", consisting of a \"role\" (one of system, user or assistant) and \"content\"\n",
    "question = 'How can you help me'\n",
    "\n",
    "\n",
    "completion = openai.ChatCompletion.create(\n",
    "  model=\"gpt-3.5-turbo\",\n",
    "  messages=[\n",
    "    {\"role\": \"user\", \"content\": question}\n",
    "  ]\n",
    ")\n",
    "print(f\"{completion['choices'][0]['message']['role']}: {completion['choices'][0]['message']['content']}\")"
   ]
  },
  {
   "cell_type": "code",
   "execution_count": 17,
   "metadata": {
    "pycharm": {
     "name": "#%%\n"
    }
   },
   "outputs": [],
   "source": [
    "from termcolor import colored\n",
    "\n",
    "# A basic class to create a message as a dict for chat\n",
    "class Message:\n",
    "    \n",
    "    \n",
    "    def __init__(self,role,content):\n",
    "        \n",
    "        self.role = role\n",
    "        self.content = content\n",
    "        \n",
    "    def message(self):\n",
    "        \n",
    "        return {\"role\": self.role,\"content\": self.content}\n",
    "        \n",
    "# Our assistant class we'll use to converse with the bot\n",
    "class Assistant:\n",
    "    \n",
    "    def __init__(self):\n",
    "        self.conversation_history = []\n",
    "\n",
    "    def _get_assistant_response(self, prompt):\n",
    "        \n",
    "        try:\n",
    "            completion = openai.ChatCompletion.create(\n",
    "              model=\"gpt-3.5-turbo\",\n",
    "              messages=prompt\n",
    "            )\n",
    "            \n",
    "            response_message = Message(completion['choices'][0]['message']['role'],completion['choices'][0]['message']['content'])\n",
    "            return response_message.message()\n",
    "            \n",
    "        except Exception as e:\n",
    "            \n",
    "            return f'Request failed with exception {e}'\n",
    "\n",
    "    def ask_assistant(self, next_user_prompt, colorize_assistant_replies=True):\n",
    "        [self.conversation_history.append(x) for x in next_user_prompt]\n",
    "        assistant_response = self._get_assistant_response(self.conversation_history)\n",
    "        self.conversation_history.append(assistant_response)\n",
    "        return assistant_response\n",
    "            \n",
    "        \n",
    "    def pretty_print_conversation_history(self, colorize_assistant_replies=True):\n",
    "        for entry in self.conversation_history:\n",
    "            if entry['role'] == 'system':\n",
    "                pass\n",
    "            else:\n",
    "                prefix = entry['role']\n",
    "                content = entry['content']\n",
    "                output = colored(prefix +':\\n' + content, 'green') if colorize_assistant_replies and entry['role'] == 'assistant' else prefix +':\\n' + content\n",
    "                print(output)"
   ]
  },
  {
   "cell_type": "code",
   "execution_count": 18,
   "metadata": {
    "pycharm": {
     "name": "#%%\n"
    }
   },
   "outputs": [
    {
     "data": {
      "text/plain": [
       "[{'role': 'system',\n",
       "  'content': 'You are a helpful Tax assistant who knows the tax rules'},\n",
       " {'role': 'user', 'content': 'What can you do to help me'}]"
      ]
     },
     "execution_count": 18,
     "metadata": {},
     "output_type": "execute_result"
    }
   ],
   "source": [
    "# Initiate our Assistant class\n",
    "conversation = Assistant()\n",
    "\n",
    "# Create a list to hold our messages and insert both a system message to guide behaviour and our first user question\n",
    "messages = []\n",
    "system_message = Message('system','You are a helpful Tax assistant who knows the tax rules')\n",
    "user_message = Message('user','What can you do to help me')\n",
    "messages.append(system_message.message())\n",
    "messages.append(user_message.message())\n",
    "messages"
   ]
  },
  {
   "cell_type": "code",
   "execution_count": 19,
   "metadata": {
    "pycharm": {
     "name": "#%%\n"
    }
   },
   "outputs": [
    {
     "name": "stdout",
     "output_type": "stream",
     "text": [
      "As a tax assistant, I can provide you with tax advice and guidance on how to navigate the tax system. This includes helping you understand:\n",
      "\n",
      "1. Your tax obligations: I can help you understand your tax obligations based on your income, deductions, and credits.\n",
      "\n",
      "2. Tax deductions and credits: I can help you identify tax deductions and credits that you may be eligible for to help you minimize your tax liability.\n",
      "\n",
      "3. Tax laws and regulations: I can help you stay up-to-date with the latest tax laws and regulations that may impact your tax situation.\n",
      "\n",
      "4. Tax planning: I can help you with tax planning strategies to help you optimize your taxes and minimize your tax burden.\n",
      "\n",
      "5. Tax submissions and filings: I can help you with the preparation and submission of your tax returns to ensure that they are accurate and compliant with applicable tax laws and regulations.\n",
      "\n",
      "6. Tax questions and concerns: I can address any tax-related questions or concerns that you may have and provide guidance on how to handle them.\n"
     ]
    }
   ],
   "source": [
    "# Get back a response from the Chatbot to our question\n",
    "response_message = conversation.ask_assistant(messages)\n",
    "print(response_message['content'])"
   ]
  },
  {
   "cell_type": "code",
   "execution_count": 20,
   "metadata": {
    "pycharm": {
     "name": "#%%\n"
    }
   },
   "outputs": [
    {
     "name": "stdout",
     "output_type": "stream",
     "text": [
      "Understanding tax laws and regulations is an essential aspect of navigating the tax system. Tax laws and regulations are dynamic and can change significantly over time. As a tax assistant, I can provide you with up-to-date information on current tax laws and how they pertain to your tax situation.\n",
      "\n",
      "For example, there may be changes to tax laws in a given year that affect the deductions or credits you are eligible for. I can help you navigate these changes and identify any new opportunities to maximize your savings.\n",
      "\n",
      "I can also help you understand complex tax regulations that may apply to your business, such as tax compliance requirements or rules surrounding foreign income tax reporting.\n",
      "\n",
      "Overall, a thorough understanding of tax laws and regulations can help you make informed tax decisions and ensure that your tax filings are accurate and compliant. As a tax assistant, I can ensure you stay updated on the latest changes and answer any questions you may have about them.\n"
     ]
    }
   ],
   "source": [
    "next_question = 'Tell me more about option 3'\n",
    "\n",
    "# Initiate a fresh messages list and insert our next question\n",
    "messages = []\n",
    "user_message = Message('user',next_question)\n",
    "messages.append(user_message.message())\n",
    "response_message = conversation.ask_assistant(messages)\n",
    "print(response_message['content'])"
   ]
  },
  {
   "cell_type": "code",
   "execution_count": 21,
   "metadata": {
    "pycharm": {
     "name": "#%%\n"
    }
   },
   "outputs": [
    {
     "name": "stdout",
     "output_type": "stream",
     "text": [
      "user:\n",
      "What can you do to help me\n",
      "\u001b[32massistant:\n",
      "As a tax assistant, I can provide you with tax advice and guidance on how to navigate the tax system. This includes helping you understand:\n",
      "\n",
      "1. Your tax obligations: I can help you understand your tax obligations based on your income, deductions, and credits.\n",
      "\n",
      "2. Tax deductions and credits: I can help you identify tax deductions and credits that you may be eligible for to help you minimize your tax liability.\n",
      "\n",
      "3. Tax laws and regulations: I can help you stay up-to-date with the latest tax laws and regulations that may impact your tax situation.\n",
      "\n",
      "4. Tax planning: I can help you with tax planning strategies to help you optimize your taxes and minimize your tax burden.\n",
      "\n",
      "5. Tax submissions and filings: I can help you with the preparation and submission of your tax returns to ensure that they are accurate and compliant with applicable tax laws and regulations.\n",
      "\n",
      "6. Tax questions and concerns: I can address any tax-related questions or concerns that you may have and provide guidance on how to handle them.\u001b[0m\n",
      "user:\n",
      "Tell me more about option 3\n",
      "\u001b[32massistant:\n",
      "Understanding tax laws and regulations is an essential aspect of navigating the tax system. Tax laws and regulations are dynamic and can change significantly over time. As a tax assistant, I can provide you with up-to-date information on current tax laws and how they pertain to your tax situation.\n",
      "\n",
      "For example, there may be changes to tax laws in a given year that affect the deductions or credits you are eligible for. I can help you navigate these changes and identify any new opportunities to maximize your savings.\n",
      "\n",
      "I can also help you understand complex tax regulations that may apply to your business, such as tax compliance requirements or rules surrounding foreign income tax reporting.\n",
      "\n",
      "Overall, a thorough understanding of tax laws and regulations can help you make informed tax decisions and ensure that your tax filings are accurate and compliant. As a tax assistant, I can ensure you stay updated on the latest changes and answer any questions you may have about them.\u001b[0m\n"
     ]
    }
   ],
   "source": [
    "# Print out a log of our conversation so far\n",
    "conversation.pretty_print_conversation_history()"
   ]
  },
  {
   "cell_type": "markdown",
   "metadata": {
    "pycharm": {
     "name": "#%% md\n"
    }
   },
   "source": [
    "### Knowledge retrieval\n",
    "\n",
    "Now we'll extend the class to call a downstream service when a stop sequence is spoken by the Chatbot.\n",
    "\n",
    "The main changes are:\n",
    "- The system message is more comprehensive, giving criteria for the Chatbot to advance the conversation\n",
    "- Adding an explicit stop sequence for it to use when it has the info it needs\n",
    "- Extending the class with a function ```_get_search_results``` which sources Redis results"
   ]
  },
  {
   "cell_type": "code",
   "execution_count": 22,
   "metadata": {
    "pycharm": {
     "name": "#%%\n"
    }
   },
   "outputs": [],
   "source": [
    "# Updated system prompt requiring Question and Year to be extracted from the user\n",
    "system_prompt = '''\n",
    "You are a helpful Tax knowledge base assistant. You need to capture a Question and Year from each customer.\n",
    "The Question is their query on Taxes, and the Year is the year of the applicable Tax season.\n",
    "If they haven't provided the Year, ask them for it again.\n",
    "Once you have the Year, say \"searching for answers\".\n",
    "\n",
    "Example 1:\n",
    "\n",
    "User: I'd like to know the deductions I am eligible for with an income of 100000 dollars , married and 2 kids\n",
    "\n",
    "Assistant: Certainly, what year would you like this for?\n",
    "\n",
    "User: 2023 please.\n",
    "\n",
    "Assistant: Searching for answers.\n",
    "'''\n",
    "\n",
    "# New Assistant class to add a vector database call to its responses\n",
    "class RetrievalAssistant:\n",
    "    \n",
    "    def __init__(self):\n",
    "        self.conversation_history = []  \n",
    "\n",
    "    def _get_assistant_response(self, prompt):\n",
    "        \n",
    "        try:\n",
    "            completion = openai.ChatCompletion.create(\n",
    "              model=CHAT_MODEL,\n",
    "              messages=prompt,\n",
    "              temperature=0.1\n",
    "            )\n",
    "            \n",
    "            response_message = Message(completion['choices'][0]['message']['role'],completion['choices'][0]['message']['content'])\n",
    "            return response_message.message()\n",
    "            \n",
    "        except Exception as e:\n",
    "            \n",
    "            return f'Request failed with exception {e}'\n",
    "    \n",
    "    # The function to retrieve Redis search results\n",
    "    def _get_search_results(self,prompt):\n",
    "        latest_question = prompt\n",
    "        search_content = get_redis_results(redis_client,latest_question,INDEX_NAME)['result'][0]\n",
    "        return search_content\n",
    "        \n",
    "\n",
    "    def ask_assistant(self, next_user_prompt):\n",
    "        [self.conversation_history.append(x) for x in next_user_prompt]\n",
    "        assistant_response = self._get_assistant_response(self.conversation_history)\n",
    "        \n",
    "        # Answer normally unless the trigger sequence is used \"searching_for_answers\"\n",
    "        if 'searching for answers' in assistant_response['content'].lower():\n",
    "            question_extract = openai.Completion.create(model=COMPLETIONS_MODEL,prompt=f\"Extract the user's latest question and the year for that question from this conversation: {self.conversation_history}. Extract it as a sentence stating the Question and Year\")\n",
    "            search_result = self._get_search_results(question_extract['choices'][0]['text'])\n",
    "            \n",
    "            # We insert an extra system prompt here to give fresh context to the Chatbot on how to use the Redis results\n",
    "            # In this instance we add it to the conversation history, but in production it may be better to hide\n",
    "            self.conversation_history.insert(-1,{\"role\": 'system',\"content\": f\"Answer the user's question using this content: {search_result}. If you cannot answer the question, say 'Sorry, I don't know the answer to this one'\"})\n",
    "            #[self.conversation_history.append(x) for x in next_user_prompt]\n",
    "            \n",
    "            assistant_response = self._get_assistant_response(self.conversation_history)\n",
    "            print(next_user_prompt)\n",
    "            print(assistant_response)\n",
    "            self.conversation_history.append(assistant_response)\n",
    "            return assistant_response\n",
    "        else:\n",
    "            self.conversation_history.append(assistant_response)\n",
    "            return assistant_response\n",
    "            \n",
    "        \n",
    "    def pretty_print_conversation_history(self, colorize_assistant_replies=True):\n",
    "        for entry in self.conversation_history:\n",
    "            if entry['role'] == 'system':\n",
    "                pass\n",
    "            else:\n",
    "                prefix = entry['role']\n",
    "                content = entry['content']\n",
    "                output = colored(prefix +':\\n' + content, 'green') if colorize_assistant_replies and entry['role'] == 'assistant' else prefix +':\\n' + content\n",
    "                #prefix = entry['role']\n",
    "                print(output)"
   ]
  },
  {
   "cell_type": "code",
   "execution_count": 25,
   "metadata": {
    "pycharm": {
     "name": "#%%\n"
    }
   },
   "outputs": [
    {
     "data": {
      "text/plain": [
       "{'role': 'assistant',\n",
       " 'content': 'Certainly, what year would you like this for?'}"
      ]
     },
     "execution_count": 25,
     "metadata": {},
     "output_type": "execute_result"
    }
   ],
   "source": [
    "conversation = RetrievalAssistant()\n",
    "messages = []\n",
    "system_message = Message('system',system_prompt)\n",
    "user_message = Message('user','what deductions  am I eligible for with an income of 100000 dollars  and married')\n",
    "messages.append(system_message.message())\n",
    "messages.append(user_message.message())\n",
    "response_message = conversation.ask_assistant(messages)\n",
    "response_message"
   ]
  },
  {
   "cell_type": "code",
   "execution_count": 26,
   "metadata": {
    "pycharm": {
     "name": "#%%\n"
    }
   },
   "outputs": [
    {
     "name": "stdout",
     "output_type": "stream",
     "text": [
      "[{'role': 'user', 'content': 'For 2023 please.'}]\n",
      "{'role': 'assistant', 'content': \"I'm sorry, but the information I provided earlier was not related to your question. To answer your question, the deductions you are eligible for with an income of $100,000 and married will depend on several factors, such as your filing status, the deductions you choose to take, and the tax laws in effect for the tax year in question. Some common deductions that you may be eligible for include the standard deduction, mortgage interest, charitable contributions, and state and local taxes. However, to get a more accurate answer, I would need more information about your specific situation. Can you please provide more details about your question?\"}\n"
     ]
    }
   ],
   "source": [
    "messages = []\n",
    "user_message = Message('user','For 2023 please.')\n",
    "messages.append(user_message.message())\n",
    "response_message = conversation.ask_assistant(messages)\n",
    "#response_message"
   ]
  },
  {
   "cell_type": "code",
   "execution_count": 27,
   "metadata": {
    "pycharm": {
     "name": "#%%\n"
    }
   },
   "outputs": [
    {
     "name": "stdout",
     "output_type": "stream",
     "text": [
      "user:\n",
      "what deductions  am I eligible for with an income of 100000 dollars  and married\n",
      "\u001b[32massistant:\n",
      "Certainly, what year would you like this for?\u001b[0m\n",
      "user:\n",
      "For 2023 please.\n",
      "\u001b[32massistant:\n",
      "I'm sorry, but the information I provided earlier was not related to your question. To answer your question, the deductions you are eligible for with an income of $100,000 and married will depend on several factors, such as your filing status, the deductions you choose to take, and the tax laws in effect for the tax year in question. Some common deductions that you may be eligible for include the standard deduction, mortgage interest, charitable contributions, and state and local taxes. However, to get a more accurate answer, I would need more information about your specific situation. Can you please provide more details about your question?\u001b[0m\n"
     ]
    }
   ],
   "source": [
    "conversation.pretty_print_conversation_history()"
   ]
  },
  {
   "cell_type": "markdown",
   "metadata": {
    "pycharm": {
     "name": "#%% md\n"
    }
   },
   "source": [
    "### Chatbot\n",
    "\n",
    "Now we'll put all this into action with a real (basic) Chatbot.\n",
    "\n",
    "In the directory containing this app, execute ```streamlit run chat.py```. This will open up a Streamlit app in your browser where you can ask questions of your embedded data. \n",
    "\n",
    "__Example Questions__:\n",
    "- what is the cost cap for a power unit in 2023\n",
    "- what should competitors include on their application form\n",
    "- how can a competitor be disqualified"
   ]
  },
  {
   "cell_type": "markdown",
   "metadata": {
    "pycharm": {
     "name": "#%% md\n"
    }
   },
   "source": [
    "### Consolidation\n",
    "\n",
    "Over the course of this notebook you have:\n",
    "- Laid the foundations of your product by embedding our knowledge base\n",
    "- Created a Q&A application to serve basic use cases\n",
    "- Extended this to be an interactive Chatbot\n",
    "\n",
    "These are the foundational building blocks of any Q&A or Chat application using our APIs - these are your starting point, and we look forward to seeing what you build with them!"
   ]
  }
 ],
 "metadata": {
  "kernelspec": {
   "display_name": "Python 3",
   "language": "python",
   "name": "python3"
  },
  "language_info": {
   "codemirror_mode": {
    "name": "ipython",
    "version": 3
   },
   "file_extension": ".py",
   "mimetype": "text/x-python",
   "name": "python",
   "nbconvert_exporter": "python",
   "pygments_lexer": "ipython3",
   "version": "3.8.5"
  }
 },
 "nbformat": 4,
 "nbformat_minor": 5
}
